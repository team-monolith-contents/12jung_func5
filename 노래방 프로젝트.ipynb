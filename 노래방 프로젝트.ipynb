{
 "cells": [
  {
   "cell_type": "markdown",
   "id": "2b711666-fedd-4720-9e9c-c6eadd6f1f5b",
   "metadata": {
    "deletable": false,
    "editable": false
   },
   "source": [
    "## **실생활 프로젝트** \n",
    "**❓ 노래방 점수를 입력받아 점수 별로 멘트를 출력하는 함수를 만들어봅시다.**   \n",
    "\n",
    "100점 : 환상적인 노래 실력, 가수 데뷔해도 되겠는데요?!  \n",
    "90 ~ 99점 : 한곡 더 듣고 싶은 실력! 불러줄꺼죠?    \n",
    "80 ~ 89점 : 탐나는 목소리를 가졌다고 전해라~    \n",
    "70 ~ 79 : 한곡 더 놀아볼까?  \n",
    "70점 미만 : 이 점수 어쩌면 좋지?  "
   ]
  },
  {
   "cell_type": "markdown",
   "id": "92e072a9-9d01-4921-88b5-97f0aeb2430c",
   "metadata": {
    "deletable": false,
    "editable": false
   },
   "source": [
    "#### **예제 7 : 노래방 멘트 출력하기**"
   ]
  },
  {
   "cell_type": "code",
   "execution_count": null,
   "id": "7fa2177c-6981-4f64-9aaa-1f3a01121517",
   "metadata": {
    "codle/previous_execution": {
     "code": "# 예제_4_노래방_멘트_출력하기\ndef singer(score):  # def 함수명(매개변수)\n    score = int(score)\n    if score == 100 :\n        print(\"환상적인 노래 실력, 가수 데뷔해도 되겠는데요?!\")\n    elif score >= 90 and score < 100:\n        print(\"한곡 더 듣고 싶은 실력! 불러줄꺼죠?\")\n    elif score >= 80 and score < 90:\n        print(\"탐나는 목소리를 가졌다고 전해라~\")\n    elif score >= 70 and score < 80:\n        print(\"한곡 더 놀아볼까?\")\n    else :\n        print(\"이 점수 어쩌면 좋지?\")\n        \nn = input(\"노래방 점수를 입력하세요!\")\nsinger(n)",
     "id": "5531823"
    },
    "tags": [
     "jce.problems.221.7단원-예제4"
    ]
   },
   "outputs": [],
   "source": [
    "# 예제_4_노래방_멘트_출력하기\n",
    "def singer(score):  # def 함수명(매개변수)\n",
    "    score = int(score)\n",
    "    if score == 100 :\n",
    "        print(\"환상적인 노래 실력, 가수 데뷔해도 되겠는데요?!\")\n",
    "    elif score >= 90 and score < 100:\n",
    "        print(\"한곡 더 듣고 싶은 실력! 불러줄꺼죠?\")\n",
    "    elif score >= 80 and score < 90:\n",
    "        print(\"탐나는 목소리를 가졌다고 전해라~\")\n",
    "    elif score >= 70 and score < 80:\n",
    "        print(\"한곡 더 놀아볼까?\")\n",
    "    else :\n",
    "        print(\"이 점수 어쩌면 좋지?\")\n",
    "        \n",
    "n = input(\"노래방 점수를 입력하세요!\")\n",
    "singer(n)"
   ]
  },
  {
   "cell_type": "markdown",
   "id": "c0eab90e-0181-4179-8f68-6846edc4b2fe",
   "metadata": {
    "deletable": false,
    "editable": false
   },
   "source": [
    "### **💯 연습문제를 풀어봅시다**\n",
    "1. <a class=\"jcecodle-mk jcecodle-mk__problem-chip\" data-problem-id=\"4vZ2gPVZ99s\" href='#jce-judge/open/4vZ2gPVZ99s' target='_self'><span>점수 등급 분류하기2(함수)_빈칸</span></a>\n",
    "2. <a class=\"jcecodle-mk jcecodle-mk__problem-chip\" data-problem-id=\"gNv6f41UeSY\" href='#jce-judge/open/gNv6f41UeSY' target='_self'><span>점수 등급 분류하기2(함수)</span></a>"
   ]
  }
 ],
 "metadata": {
  "kernelspec": {
   "display_name": "Python 3 (ipykernel)",
   "language": "python",
   "name": "python3"
  },
  "language_info": {
   "codemirror_mode": {
    "name": "ipython",
    "version": 3
   },
   "file_extension": ".py",
   "mimetype": "text/x-python",
   "name": "python",
   "nbconvert_exporter": "python",
   "pygments_lexer": "ipython3",
   "version": "3.10.13"
  },
  "read_only": true
 },
 "nbformat": 4,
 "nbformat_minor": 5
}
